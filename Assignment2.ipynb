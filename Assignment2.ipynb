{
 "cells": [
  {
   "cell_type": "markdown",
   "id": "armed-heath",
   "metadata": {},
   "source": [
    "# que3)"
   ]
  },
  {
   "cell_type": "code",
   "execution_count": 5,
   "id": "greatest-opposition",
   "metadata": {},
   "outputs": [
    {
     "name": "stdout",
     "output_type": "stream",
     "text": [
      "12 6 144 "
     ]
    }
   ],
   "source": [
    "list1 = [12,3,55,6,144]\n",
    "#iteration\n",
    "for num in list1:\n",
    "    #check\n",
    "    if num % 2 == 0 :\n",
    "        print(num, end = \" \")"
   ]
  },
  {
   "cell_type": "code",
   "execution_count": 6,
   "id": "applicable-presence",
   "metadata": {},
   "outputs": [
    {
     "name": "stdout",
     "output_type": "stream",
     "text": [
      "2 10 "
     ]
    }
   ],
   "source": [
    "list1 = [2,10,9,37]\n",
    "#iteration\n",
    "for num in list1:\n",
    "    #check\n",
    "    if num % 2 == 0 :\n",
    "        print(num, end = \" \")"
   ]
  },
  {
   "cell_type": "code",
   "execution_count": null,
   "id": "moved-cosmetic",
   "metadata": {},
   "outputs": [],
   "source": []
  }
 ],
 "metadata": {
  "kernelspec": {
   "display_name": "Python 3",
   "language": "python",
   "name": "python3"
  },
  "language_info": {
   "codemirror_mode": {
    "name": "ipython",
    "version": 3
   },
   "file_extension": ".py",
   "mimetype": "text/x-python",
   "name": "python",
   "nbconvert_exporter": "python",
   "pygments_lexer": "ipython3",
   "version": "3.9.0"
  }
 },
 "nbformat": 4,
 "nbformat_minor": 5
}
